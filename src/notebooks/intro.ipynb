{
 "cells": [
  {
   "cell_type": "markdown",
   "metadata": {},
   "source": [
    "author: Simo Ryu\n",
    "tag: Tutorial\n",
    "title: How to use JaaMu\n",
    "abstract: In this post, we will introduce the JaaMu framework and how to use it."
   ]
  },
  {
   "cell_type": "markdown",
   "metadata": {},
   "source": [
    "# Welcome to JaaMu!\n",
    "\n",
    "JaaMu: Jupyter as a Markup language is a tool to export Jupyter notebooks as HTML, supported by rich features from React and Gatsby.\n",
    "\n",
    "These blog posts are statically generated from Jupyter notebooks using JaaMu.\n",
    "\n",
    "## Why use JaaMu?\n",
    "\n",
    "Not everyone is an engineer, nor even a programmer. Should you open a jupyter notebook kernel just to read a blog post? Absolutely not.\n",
    "\n",
    "You might ask, \"but `nbconvert` already supports out-of-the-box HTML export, why not use that?\"\n",
    "\n",
    "Indeed, with nbconvert,\n",
    "\n",
    "```bash\n",
    "jupyter nbconvert --to html --template basic notebook.ipynb\n",
    "```\n",
    "\n",
    "Will produce a static HTML file.\n",
    "\n",
    "However,\n",
    "\n",
    "* Are they in any way beautiful?\n",
    "* Are they react-integrated, with rich Chakra-UI components?\n",
    "* Do they have functiallity to interact with the notebook with light-weight CDN libraries - driven components?\n",
    "* Do they automatically parse metadata to summarize the content, and generate a summary page?\n",
    "* Do they support Katex-rendered math?\n",
    "\n",
    "... I did not think so.\n",
    "\n",
    "Below is all the feature that JaaMu provides.\n",
    "\n",
    "## 1. Cell Outputs\n",
    "\n",
    "JaaMu is currently tested with plotly, matplotlib and bokeh. By default, `code cell` of the notebook will be outputted.\n",
    "\n",
    "If you wish to not render some cell, start the cell with `#rm`.\n",
    "\n"
   ]
  },
  {
   "cell_type": "code",
   "execution_count": 6,
   "metadata": {},
   "outputs": [
    {
     "name": "stdout",
     "output_type": "stream",
     "text": [
      "This string was output of a python script.     You do not see the script because the cell     starts with #rm\n"
     ]
    }
   ],
   "source": [
    "#rm\n",
    "\n",
    "print(\"This string was output of a python script.\\\n",
    "     You do not see the script because the cell \\\n",
    "    starts with #rm\")\n"
   ]
  },
  {
   "cell_type": "code",
   "execution_count": 7,
   "metadata": {},
   "outputs": [
    {
     "name": "stdout",
     "output_type": "stream",
     "text": [
      "3\n"
     ]
    }
   ],
   "source": [
    "a = 1\n",
    "b = 2\n",
    "c = a + b\n",
    "aaaaaaaaaaaaaaaaaaaaaaaaaaaaaaaaaaaaaaaaaaaaaaaaaaaaaaaaaaaaaaaaaaaaaaaaaaaaaaaaaaaaaaaaaaaaaaaaaaaaaaaaaaaaaaaaaaaaaaaaaaaaaaaaaaaaaaa\n",
    "\n",
    "print(c)\n"
   ]
  },
  {
   "cell_type": "markdown",
   "metadata": {},
   "source": [
    "# This is Second"
   ]
  },
  {
   "cell_type": "markdown",
   "metadata": {},
   "source": [
    "hi"
   ]
  },
  {
   "cell_type": "markdown",
   "metadata": {},
   "source": []
  }
 ],
 "metadata": {
  "interpreter": {
   "hash": "952e1bebe1b278d85469a034aefc1854b777c1b518feedf8249123f6f86cec05"
  },
  "kernelspec": {
   "display_name": "Python 3.8.12 64-bit ('pytorch_latest': conda)",
   "language": "python",
   "name": "python3"
  },
  "language_info": {
   "codemirror_mode": {
    "name": "ipython",
    "version": 3
   },
   "file_extension": ".py",
   "mimetype": "text/x-python",
   "name": "python",
   "nbconvert_exporter": "python",
   "pygments_lexer": "ipython3",
   "version": "3.8.12"
  },
  "orig_nbformat": 4
 },
 "nbformat": 4,
 "nbformat_minor": 2
}
